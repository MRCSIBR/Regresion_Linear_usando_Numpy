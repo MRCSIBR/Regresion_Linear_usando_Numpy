{
 "cells": [
  {
   "cell_type": "markdown",
   "id": "f502d2a3",
   "metadata": {},
   "source": [
    "# Regresion linear usando Numpy\n",
    "\n",
    "La regresión lineal es un método estadístico utilizado para modelar la relación entre una variable dependiente y una o más variables independientes. **En términos más simples, la regresión lineal busca encontrar una línea recta que mejor se ajuste a los datos observados.**\n",
    "\n",
    "En la regresión lineal, se asume que la relación entre las variables es lineal, es decir, se puede representar mediante una ecuación de la forma y = mx + b, donde \"y\" es la variable dependiente, \"x\" es la variable independiente, \"m\" es la pendiente de la línea y \"b\" es la intersección con el eje y.\n",
    "\n",
    "El objetivo de la regresión lineal es encontrar los valores de \"m\" y \"b\" que minimicen la diferencia entre los valores observados y los valores predichos por la línea. **Esto se logra utilizando técnicas como el método de los mínimos cuadrados.**\n",
    "\n",
    "Una vez que se ha ajustado la línea de regresión a los datos, se puede utilizar para hacer predicciones sobre nuevos valores de la variable dependiente, en función de los valores de la variable independiente.\n",
    "\n",
    "La regresión lineal es ampliamente utilizada en diversos campos, como la economía, la ciencia de datos y la investigación social, para analizar y predecir relaciones entre variables."
   ]
  },
  {
   "cell_type": "code",
   "execution_count": 1,
   "id": "e889849d",
   "metadata": {},
   "outputs": [
    {
     "name": "stdout",
     "output_type": "stream",
     "text": [
      "Slope: 0.6000000000000001\n",
      "Intercept: 2.1999999999999997\n",
      "Predictions: [2.8 3.4 4.  4.6 5.2]\n"
     ]
    }
   ],
   "source": [
    "# Codigo generado con ChatGPT 3.5 (15.8.2023)\n",
    "import numpy as np\n",
    "\n",
    "# Prepare the data\n",
    "x = np.array([1, 2, 3, 4, 5])\n",
    "y = np.array([2, 4, 5, 4, 5])\n",
    "\n",
    "# Calculate the slope and intercept\n",
    "m, b = np.polyfit(x, y, 1)\n",
    "\n",
    "# Make predictions\n",
    "predictions = m * x + b\n",
    "\n",
    "# Print the slope, intercept, and predictions\n",
    "print(\"Slope:\", m)\n",
    "print(\"Intercept:\", b)\n",
    "print(\"Predictions:\", predictions)"
   ]
  },
  {
   "cell_type": "code",
   "execution_count": 2,
   "id": "c34205f7",
   "metadata": {},
   "outputs": [
    {
     "name": "stdout",
     "output_type": "stream",
     "text": [
      "Slope: 0.6000000000000001\n",
      "Intercept: 2.1999999999999997\n",
      "Predictions: [2.8 3.4 4.  4.6 5.2]\n"
     ]
    },
    {
     "data": {
      "image/png": "[encoded data removed]",
      "text/plain": [
       "<Figure size 640x480 with 1 Axes>"
      ]
     },
     "metadata": {},
     "output_type": "display_data"
    }
   ],
   "source": [
    "# Version para visualizar plot\n",
    "\n",
    "import numpy as np\n",
    "import matplotlib.pyplot as plt\n",
    "\n",
    "# Prepare the data\n",
    "x = np.array([1, 2, 3, 4, 5])\n",
    "y = np.array([2, 4, 5, 4, 5])\n",
    "\n",
    "# Calculate the slope and intercept\n",
    "m, b = np.polyfit(x, y, 1)\n",
    "\n",
    "# Make predictions\n",
    "predictions = m * x + b\n",
    "\n",
    "# Print the slope, intercept, and predictions\n",
    "print(\"Slope:\", m)\n",
    "print(\"Intercept:\", b)\n",
    "print(\"Predictions:\", predictions)\n",
    "\n",
    "# Create a scatter plot of the data points\n",
    "plt.scatter(x, y, color='blue', label='Data')\n",
    "\n",
    "# Create a line plot of the predicted values\n",
    "plt.plot(x, predictions, color='red', label='Linear Regression')\n",
    "\n",
    "# Add labels and a legend\n",
    "plt.xlabel('x')\n",
    "plt.ylabel('y')\n",
    "plt.legend()\n",
    "\n",
    "# Show the plot\n",
    "plt.show()"
   ]
  },
  {
   "cell_type": "markdown",
   "id": "c693bd32",
   "metadata": {},
   "source": [
    "## Explicacion de np.polyfit\n",
    "\n",
    "The np.polyfit(x, y, 1) function in NumPy is used to perform a linear regression analysis. It fits a polynomial of degree 1 (a straight line) to a set of data points specified by the arrays x and y 1\n",
    "3\n",
    ". Here is a breakdown of the parameters:\n",
    "\n",
    "    x: This is the input array containing the x-coordinates of the data points.\n",
    "    y: This is the input array containing the y-coordinates of the data points.\n",
    "    1: This parameter specifies the degree of the polynomial to fit, in this case, a straight line.\n",
    "\n",
    "The function returns a vector of coefficients p that minimizes the squared error, representing the equation of the fitted line1\n",
    "3\n",
    ". The coefficients are ordered from highest degree to lowest degree. Here is an example usage of np.polyfit(x, y, 1):\n",
    "\n",
    "python\n",
    "    import numpy as np\n",
    "\n",
    "    x = np.array([0.0, 1.0, 2.0, 3.0, 4.0, 5.0])\n",
    "    y = np.array([0.0, 0.8, 0.9, 0.1, -0.8, -1.0])\n",
    "\n",
    "    coefficients = np.polyfit(x, y, 1)\n",
    "\n",
    "In this example, the function will fit a straight line to the data points (0.0, 0.0), (1.0, 0.8), (2.0, 0.9), (3.0, 0.1), (4.0, -0.8), and (5.0, -1.0). The resulting coefficients will represent the equation of the fitted line. Note that the np.polyfit() function can be used to fit polynomials of higher degrees by changing the degree parameter. For example, np.polyfit(x, y, 2) would fit a quadratic curve to the data points.\n"
   ]
  },
  {
   "cell_type": "code",
   "execution_count": null,
   "id": "965d9595",
   "metadata": {},
   "outputs": [],
   "source": []
  }
 ],
 "metadata": {
  "kernelspec": {
   "display_name": "Python 3",
   "language": "python",
   "name": "python3"
  },
  "language_info": {
   "codemirror_mode": {
    "name": "ipython",
    "version": 3
   },
   "file_extension": ".py",
   "mimetype": "text/x-python",
   "name": "python",
   "nbconvert_exporter": "python",
   "pygments_lexer": "ipython3",
   "version": "3.9.16"
  }
 },
 "nbformat": 4,
 "nbformat_minor": 5
}
